{
 "cells": [
  {
   "cell_type": "code",
   "execution_count": null,
   "metadata": {},
   "outputs": [],
   "source": [
    "import numpy as np\n",
    "import pandas as pd\n",
    "import matplotlib.pyplot as plt\n",
    "import json"
   ]
  },
  {
   "cell_type": "code",
   "execution_count": null,
   "metadata": {},
   "outputs": [],
   "source": [
    "# plot loss \n",
    "path = '/data/research/version2/privdl/result/100-1-adv_Distillation.py/8_gpus/celeba/1.0_trainset/stage1_obf/True_pretrained/5_layer/6_tail_layer/logs_stage1.json'\n",
    "\n",
    "with open(path, 'r') as files:\n",
    "    data = json.load(files)\n",
    "# x = range(len(data))[::5]\n",
    "# print(data)\n",
    "x = range(len(data))\n",
    "y = []\n",
    "for item in data:\n",
    "    y.append(item['monitor']['loss'])\n",
    "# y = y[::5]\n",
    "y = y\n",
    "min_loss = min(y)\n",
    "\n",
    "plt.figure(figsize=(20, 8), dpi=320)\n",
    "plt.title('Loss-Time')\n",
    "plt.xlabel('Time')\n",
    "plt.ylabel('Loss')\n",
    "plt.grid(alpha=0.9)\n",
    "\n",
    "plt.plot(x,y,'r-',label='loss, min_loss={:.4f}'.format(min_loss))\n",
    "plt.legend(loc='best')\n",
    "\n",
    "plt.show()\n",
    "# plt.savefig('fig_1.png')"
   ]
  },
  {
   "cell_type": "code",
   "execution_count": null,
   "metadata": {},
   "outputs": [],
   "source": [
    "# plot Accuracy figure \n",
    "path = '031-5.InstaHide_vitb16_resume_ckpt_multinodes.py/insta/k_2/True/celeba/imdb/32_gpu/test_logs_230303212021.json' # 031-5_k2-celeba-imdb-0\n",
    "\n",
    "with open(path, 'r') as files:\n",
    "    data = json.load(files)\n",
    "x = range(len(data))\n",
    "y1, y2 = [], []\n",
    "for item in data:\n",
    "    y1.append(item['results']['testset_by_img']['rate'])\n",
    "    y2.append(item['results']['testset_by_person']['rate'])\n",
    "\n",
    "best_y1 = max(y1)\n",
    "best_y2 = max(y2)\n",
    "best_x1 = y1.index(best_y1)\n",
    "best_x2 = y2.index(best_y2)\n",
    "\n",
    "plt.figure(figsize=(20, 8), dpi=320)\n",
    "plt.title('Accuracy-Time')\n",
    "plt.xlabel('Time')\n",
    "plt.ylabel('Accuracy')\n",
    "plt.grid(alpha=0.9)\n",
    "\n",
    "plt.plot(x,y1,'r-',label='test_by_img (best_acc:{:.4f}, best_epoch:{})'.format(best_y1, best_x1))\n",
    "plt.plot(x,y2,'b-',label='test_by_person (best_acc:{:.4f}. best_epoch:{})'.format(best_y2, best_x2))\n",
    "plt.legend(loc='best')\n",
    "\n",
    "plt.show()\n"
   ]
  },
  {
   "cell_type": "code",
   "execution_count": null,
   "metadata": {},
   "outputs": [],
   "source": [
    "# RIA\n",
    "path = '029-2.NeuraCrypt_OnXNN_vitb16.py/Attack/patch/celeba/imdb/8_gpus/test_logs_230305170235.json'\n",
    "\n",
    "with open(path, 'r') as files:\n",
    "    data = json.load(files)\n",
    "x = range(len(data))\n",
    "y1 = []\n",
    "for item in data:\n",
    "    y1.append(item['results']['RestoreIdentificationAccuracy']['rate'])\n",
    "\n",
    "best_y1 = max(y1)\n",
    "best_x1 = y1.index(best_y1)\n",
    "\n",
    "plt.figure(figsize=(20, 8), dpi=320)\n",
    "plt.title('Accuracy-Time')\n",
    "plt.xlabel('Time')\n",
    "plt.ylabel('Accuracy')\n",
    "# plt.grid(alpha=0.9)\n",
    "\n",
    "plt.plot(x,y1,'r-',label='RIA (best_acc:{:.4f}, best_epoch:{})'.format(best_y1, best_x1))\n",
    "plt.legend(loc='best')\n",
    "\n",
    "plt.show()\n"
   ]
  }
 ],
 "metadata": {
  "kernelspec": {
   "display_name": "Python 3.9.6 64-bit",
   "language": "python",
   "name": "python3"
  },
  "language_info": {
   "codemirror_mode": {
    "name": "ipython",
    "version": 3
   },
   "file_extension": ".py",
   "mimetype": "text/x-python",
   "name": "python",
   "nbconvert_exporter": "python",
   "pygments_lexer": "ipython3",
   "version": "3.9.12"
  },
  "orig_nbformat": 4,
  "vscode": {
   "interpreter": {
    "hash": "31f2aee4e71d21fbe5cf8b01ff0e069b9275f58929596ceb00d14d90e3e16cd6"
   }
  }
 },
 "nbformat": 4,
 "nbformat_minor": 2
}
