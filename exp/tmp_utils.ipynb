{
 "cells": [
  {
   "cell_type": "code",
   "execution_count": null,
   "metadata": {},
   "outputs": [],
   "source": [
    "# -*- coding: UTF-8 -*-\n",
    "import torch as tc\n",
    "import cv2\n",
    "import numpy as np\n",
    "from tqdm import tqdm\n",
    "\n",
    "import exp_utils\n",
    "exp_utils.setup_import_path()\n",
    "import block\n",
    "\n",
    "def resize_guiyihua_transpose(img, size=None):\n",
    "    '''H*W*C*uint8(0\\~255) -> C*height*width*float32(-1\\~1)\\n\n",
    "    size=None -> height=img.shape[0], width=img.shape[1]\\n\n",
    "    size=integer -> height=width=integer\\n\n",
    "    size=(integer_a, integer_b) -> height=integer_a, width=integer_b'''\n",
    "    if size is not None:\n",
    "        if isinstance(size, int):\n",
    "            height = width = size\n",
    "        else:\n",
    "            height, width = size\n",
    "        img = cv2.resize(img, (width, height),\n",
    "            interpolation=cv2.INTER_AREA) # height*width*C*uint8\n",
    "    img = img.astype(np.float32)  # height*width*C*float32\n",
    "    img = (img - 128) / 128 # norm to -1 ~ 1\n",
    "    img = np.transpose(img, [2, 0, 1]) # HWC to CHW\n",
    "    return img\n",
    "\n",
    "def calcu_mean_and_std(dataset):\n",
    "    '''Compute the mean and std value of dataset.'''\n",
    "    dataloader = tc.utils.data.DataLoader(\n",
    "        dataset, batch_size=1, shuffle=True, num_workers=2)\n",
    "    mean = tc.zeros(3)\n",
    "    std = tc.zeros(3)\n",
    "    print(f'==> Computing mean and std...')\n",
    "    for input, target in tqdm(dataloader):\n",
    "        input = resize_guiyihua_transpose(input[0].numpy(), 112)\n",
    "        input = tc.from_numpy(input)\n",
    "        for i in range(3):\n",
    "            mean[i] += input[ i, :, :].mean()\n",
    "            std[i] += input[ i, :, :].std()\n",
    "    mean.div_(len(dataset))\n",
    "    std.div_(len(dataset))\n",
    "    return mean, std\n",
    "\n",
    "\n",
    "def get_mean_std(dataset_name):\n",
    "    ''' according input compute mean and std '''\n",
    "    if dataset_name == 'celeba':\n",
    "        print('==>Load celeba......')\n",
    "        dataset = block.dataset.hubble.xnn_paper.celeba()\n",
    "        mean, std = calcu_mean_and_std(dataset)\n",
    "        print('celeba mean and std: ', mean, std)\n",
    "    elif dataset_name == 'webface':\n",
    "        print('==>Load webface......')\n",
    "        dataset = block.dataset.hubble.xnn_paper.webface()\n",
    "        mean, std = calcu_mean_and_std(dataset)\n",
    "        print('webface mean and std: ', mean, std)\n",
    "    elif dataset_name == 'msra':\n",
    "        print('==>Load msra......')\n",
    "        dataset = block.dataset.hubble.xnn_paper.msra()\n",
    "        mean, std = calcu_mean_and_std(dataset)\n",
    "        print('msra mean and std: ', mean, std)\n",
    "    else:\n",
    "        raise ValueError('dataset_name must be celeba, webface or msra')\n",
    "\n",
    "dataset_names = ['celeba', 'webface', 'msra']\n",
    "for dataset_name in dataset_names:\n",
    "    get_mean_std(dataset_name)"
   ]
  },
  {
   "cell_type": "code",
   "execution_count": 10,
   "metadata": {},
   "outputs": [
    {
     "name": "stderr",
     "output_type": "stream",
     "text": [
      "/home/liukaixin/anaconda3/envs/torch/lib/python3.9/site-packages/torchvision/models/_utils.py:135: UserWarning: Using 'weights' as positional parameter(s) is deprecated since 0.13 and will be removed in 0.15. Please use keyword parameter(s) instead.\n",
      "  warnings.warn(\n",
      "/home/liukaixin/anaconda3/envs/torch/lib/python3.9/site-packages/torchvision/models/_utils.py:223: UserWarning: Arguments other than a weight enum or `None` for 'weights' are deprecated since 0.13 and will be removed in 0.15. The current behavior is equivalent to passing `weights=None`.\n",
      "  warnings.warn(msg)\n"
     ]
    }
   ],
   "source": [
    "import torch\n",
    "import torchvision\n",
    "from torch.utils.tensorboard import SummaryWriter\n",
    "from torchvision import datasets, transforms\n",
    "\n",
    "# Writer will output to ./runs/ directory by default\n",
    "writer = SummaryWriter(log_dir='/data/privdl_data/log/tmp_utils_ipynb1')\n",
    "\n",
    "transform = transforms.Compose([transforms.ToTensor(), transforms.Normalize((0.5,), (0.5,))])\n",
    "trainset = datasets.MNIST('/data/privdl_data/datasets/mnist', train=True, download=False, transform=transform)\n",
    "trainloader = torch.utils.data.DataLoader(trainset, batch_size=100, shuffle=True)\n",
    "model = torchvision.models.resnet50(False)\n",
    "# Have ResNet model take in grayscale rather than RGB\n",
    "model.conv1 = torch.nn.Conv2d(1, 64, kernel_size=7, stride=2, padding=3, bias=False)\n",
    "\n",
    "# images, labels = next(iter(trainloader))\n",
    "\n",
    "for batch, data in enumerate(trainloader):\n",
    "    images, labels = data\n",
    "    grid = torchvision.utils.make_grid(images, nrow=10)\n",
    "    writer.add_image('images', grid, batch)\n",
    "    writer.add_graph(model, images)\n",
    "    if batch == 9:\n",
    "        break\n",
    "writer.close()"
   ]
  },
  {
   "cell_type": "code",
   "execution_count": 20,
   "metadata": {},
   "outputs": [],
   "source": [
    "from torch.utils.tensorboard import SummaryWriter\n",
    "import numpy as np\n",
    "\n",
    "tb_log_dir = '/data/privdl_data/log/tmp_utils_ipynb/' + '3_block'\n",
    "\n",
    "writer = SummaryWriter(log_dir=tb_log_dir)\n",
    "\n",
    "for n_iter in range(100):\n",
    "    writer.add_scalar('Loss/train', np.random.random(), n_iter)\n",
    "    writer.add_scalar('Loss/test', np.random.random(), n_iter)\n",
    "    writer.add_scalar('Accuracy/train', np.random.random(), n_iter)\n",
    "    writer.add_scalar('Accuracy/test', np.random.random(), n_iter)"
   ]
  },
  {
   "cell_type": "code",
   "execution_count": null,
   "metadata": {},
   "outputs": [],
   "source": []
  }
 ],
 "metadata": {
  "kernelspec": {
   "display_name": "torch",
   "language": "python",
   "name": "python3"
  },
  "language_info": {
   "codemirror_mode": {
    "name": "ipython",
    "version": 3
   },
   "file_extension": ".py",
   "mimetype": "text/x-python",
   "name": "python",
   "nbconvert_exporter": "python",
   "pygments_lexer": "ipython3",
   "version": "3.9.12"
  },
  "orig_nbformat": 4,
  "vscode": {
   "interpreter": {
    "hash": "0232b5c9b2cf3f3b5d1b3d0529cb45833cfe286187e2aea34f46e6bb0b5079d5"
   }
  }
 },
 "nbformat": 4,
 "nbformat_minor": 2
}
